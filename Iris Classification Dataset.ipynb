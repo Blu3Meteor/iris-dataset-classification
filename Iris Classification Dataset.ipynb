{
 "cells": [
  {
   "cell_type": "markdown",
   "id": "57f8b458",
   "metadata": {},
   "source": [
    "# Using k-nearest neighbours to classify Iris samples as species (_setosa_, _versicolor_ or _virginica_) based on flower measurements"
   ]
  },
  {
   "cell_type": "markdown",
   "id": "bc918e34",
   "metadata": {},
   "source": [
    "## Getting started"
   ]
  },
  {
   "cell_type": "markdown",
   "id": "127d5fd7",
   "metadata": {},
   "source": [
    "We import a few essential libraries first"
   ]
  },
  {
   "cell_type": "code",
   "execution_count": 1,
   "id": "f070dc5e",
   "metadata": {},
   "outputs": [],
   "source": [
    "import numpy as np\n",
    "import pandas as pd\n",
    "import matplotlib.pyplot as plt\n",
    "from sklearn.neighbors import KNeighborsClassifier\n",
    "from sklearn.model_selection import train_test_split\n",
    "from sklearn.metrics import confusion_matrix\n",
    "from sklearn.metrics import plot_confusion_matrix\n",
    "from sklearn.model_selection import cross_val_score\n",
    "from sklearn.model_selection import GridSearchCV"
   ]
  },
  {
   "cell_type": "markdown",
   "id": "69b705e8",
   "metadata": {},
   "source": [
    "Next, we read the CSV file to load our dataset into a Pandas DataFrame. To print the shape and get an idea of the size of the data, we print the DataFrame's shape."
   ]
  },
  {
   "cell_type": "code",
   "execution_count": 2,
   "id": "4fcca795",
   "metadata": {},
   "outputs": [
    {
     "name": "stdout",
     "output_type": "stream",
     "text": [
      "(150, 6)\n"
     ]
    }
   ],
   "source": [
    "iris = pd.read_csv('../VSCode/Ml/Iris Dataset Classification (KNN)/Iris.csv')\n",
    "print(iris.shape)"
   ]
  },
  {
   "cell_type": "markdown",
   "id": "12651225",
   "metadata": {},
   "source": [
    "So, the dataframe contains 150 rows and 6 columns. Time to look at the first few entries to understand the way our data is arranged."
   ]
  },
  {
   "cell_type": "code",
   "execution_count": 3,
   "id": "0c13e92a",
   "metadata": {},
   "outputs": [
    {
     "name": "stdout",
     "output_type": "stream",
     "text": [
      "   Id  SepalLengthCm  SepalWidthCm  PetalLengthCm  PetalWidthCm      Species\n",
      "0   1            5.1           3.5            1.4           0.2  Iris-setosa\n",
      "1   2            4.9           3.0            1.4           0.2  Iris-setosa\n",
      "2   3            4.7           3.2            1.3           0.2  Iris-setosa\n",
      "3   4            4.6           3.1            1.5           0.2  Iris-setosa\n",
      "4   5            5.0           3.6            1.4           0.2  Iris-setosa\n"
     ]
    }
   ],
   "source": [
    "print(iris.head())"
   ]
  },
  {
   "cell_type": "markdown",
   "id": "493746f2",
   "metadata": {},
   "source": [
    "We see that we can drop the 'Id' column since it's not giving us much information."
   ]
  },
  {
   "cell_type": "code",
   "execution_count": 4,
   "id": "7391398f",
   "metadata": {},
   "outputs": [
    {
     "name": "stdout",
     "output_type": "stream",
     "text": [
      "   SepalLengthCm  SepalWidthCm  PetalLengthCm  PetalWidthCm      Species\n",
      "0            5.1           3.5            1.4           0.2  Iris-setosa\n",
      "1            4.9           3.0            1.4           0.2  Iris-setosa\n",
      "2            4.7           3.2            1.3           0.2  Iris-setosa\n",
      "3            4.6           3.1            1.5           0.2  Iris-setosa\n",
      "4            5.0           3.6            1.4           0.2  Iris-setosa\n"
     ]
    }
   ],
   "source": [
    "iris.drop('Id', axis = 1, inplace = True)\n",
    "print(iris.head())"
   ]
  },
  {
   "cell_type": "markdown",
   "id": "3cb5667f",
   "metadata": {},
   "source": [
    "The features are straightforward. 'Sepal' and 'Petal' are parts of a flower. Sepal/Petal width and length therefore measure the physical dimensions of these parts. 'Species' denotes the species of the measured flower."
   ]
  },
  {
   "cell_type": "markdown",
   "id": "20ed7844",
   "metadata": {},
   "source": [
    "Now, we take a look at the summary statistics of our dataset."
   ]
  },
  {
   "cell_type": "code",
   "execution_count": 5,
   "id": "c5c53d71",
   "metadata": {},
   "outputs": [
    {
     "name": "stdout",
     "output_type": "stream",
     "text": [
      "       SepalLengthCm  SepalWidthCm  PetalLengthCm  PetalWidthCm\n",
      "count     150.000000    150.000000     150.000000    150.000000\n",
      "mean        5.843333      3.054000       3.758667      1.198667\n",
      "std         0.828066      0.433594       1.764420      0.763161\n",
      "min         4.300000      2.000000       1.000000      0.100000\n",
      "25%         5.100000      2.800000       1.600000      0.300000\n",
      "50%         5.800000      3.000000       4.350000      1.300000\n",
      "75%         6.400000      3.300000       5.100000      1.800000\n",
      "max         7.900000      4.400000       6.900000      2.500000\n"
     ]
    }
   ],
   "source": [
    "print(iris.describe())"
   ]
  },
  {
   "cell_type": "markdown",
   "id": "b891b6c5",
   "metadata": {},
   "source": [
    "There are no missing values in the dataset, which is good news."
   ]
  },
  {
   "cell_type": "markdown",
   "id": "c8e670b3",
   "metadata": {},
   "source": [
    "## Exploratory Data Analysis"
   ]
  },
  {
   "cell_type": "markdown",
   "id": "24467a31",
   "metadata": {},
   "source": [
    "Let's see how evenly distributed the data is across 'Species'."
   ]
  },
  {
   "cell_type": "code",
   "execution_count": 6,
   "id": "d852a95c",
   "metadata": {},
   "outputs": [
    {
     "name": "stdout",
     "output_type": "stream",
     "text": [
      "Iris-setosa        50\n",
      "Iris-versicolor    50\n",
      "Iris-virginica     50\n",
      "Name: Species, dtype: int64\n"
     ]
    }
   ],
   "source": [
    "print(iris['Species'].value_counts())"
   ]
  },
  {
   "cell_type": "markdown",
   "id": "d9133440",
   "metadata": {},
   "source": [
    "We observe that the data is perfectly evenly distributed across all species, with 50 records per species."
   ]
  },
  {
   "cell_type": "markdown",
   "id": "33bdcc79",
   "metadata": {},
   "source": [
    "Now, let's make some univariate plots to understand how the data varies."
   ]
  },
  {
   "cell_type": "code",
   "execution_count": 7,
   "id": "46eb06ba",
   "metadata": {},
   "outputs": [
    {
     "data": {
      "image/png": "[encoded data removed]",
      "text/plain": [
       "<Figure size 432x288 with 4 Axes>"
      ]
     },
     "metadata": {
      "needs_background": "light"
     },
     "output_type": "display_data"
    }
   ],
   "source": [
    "iris.hist()\n",
    "plt.show()"
   ]
  },
  {
   "cell_type": "markdown",
   "id": "9ebfb887",
   "metadata": {},
   "source": [
    "So, we can see that sepal width and (roughly) sepal length follow a normal distribution. Petal length appears to follow a bimodal distribution. Petal width does not follow a distribution consistently."
   ]
  },
  {
   "cell_type": "markdown",
   "id": "3145aa46",
   "metadata": {},
   "source": [
    "We must get a better understanding of how the data of each class (each species) is grouped together. This will help us decide what feature(s) to use. To do so, we plot a scatter graph."
   ]
  },
  {
   "cell_type": "code",
   "execution_count": 8,
   "id": "816c3996",
   "metadata": {},
   "outputs": [
    {
     "data": {
      "image/png": "[encoded data removed]",
      "text/plain": [
       "<Figure size 432x288 with 1 Axes>"
      ]
     },
     "metadata": {
      "needs_background": "light"
     },
     "output_type": "display_data"
    }
   ],
   "source": [
    "# dict mapping species to an integer code\n",
    "inv_name_dict = {'Iris-setosa': 0, 'Iris-versicolor': 1, 'Iris-virginica': 2}\n",
    "# integer colour code\n",
    "colours = [inv_name_dict[item] for item in iris['Species']]\n",
    "\n",
    "# scatter plot (sepal)\n",
    "scatter = plt.scatter(iris['SepalLengthCm'], iris['SepalWidthCm'], c = colours)\n",
    "plt.xlabel('Sepal Length (cm)')\n",
    "plt.ylabel('Sepal Width (cm)')\n",
    "# add legend\n",
    "plt.legend(handles = scatter.legend_elements()[0], labels = inv_name_dict.keys())\n",
    "plt.show()"
   ]
  },
  {
   "cell_type": "markdown",
   "id": "65b0bb30",
   "metadata": {},
   "source": [
    "Plotting sepal length against sepal width, we see that we could potentially separate _setosa_ from _versicolor_ and _virginica_, but there is less distinction between _versicolor_ and _virginica_. There is also a low level of correlation."
   ]
  },
  {
   "cell_type": "code",
   "execution_count": 9,
   "id": "505787a6",
   "metadata": {},
   "outputs": [
    {
     "data": {
      "image/png": "[encoded data removed]",
      "text/plain": [
       "<Figure size 432x288 with 1 Axes>"
      ]
     },
     "metadata": {
      "needs_background": "light"
     },
     "output_type": "display_data"
    }
   ],
   "source": [
    "# scatter plot (petal)\n",
    "scatter = plt.scatter(iris['PetalLengthCm'], iris['PetalWidthCm'], c = colours)\n",
    "plt.xlabel('Petal Length (cm)')\n",
    "plt.ylabel('Petal Width (cm)')\n",
    "# add legend\n",
    "plt.legend(handles = scatter.legend_elements()[0], labels = inv_name_dict.keys())\n",
    "plt.show()"
   ]
  },
  {
   "cell_type": "markdown",
   "id": "375b8fe3",
   "metadata": {},
   "source": [
    "Plotting petal length against petal width, we see that the distinctions between the species are much more clear. _setosa_ is very distinct. _versicolor_ and _virginica_ still have less of a boundary but it is much more clearer than when using sepal features. There is a high level of correlation. Therefore, this pair of features is probably the best to use to classify them."
   ]
  },
  {
   "cell_type": "markdown",
   "id": "419b4123",
   "metadata": {},
   "source": [
    "## Classification model: K-Nearest Neighbours"
   ]
  },
  {
   "cell_type": "markdown",
   "id": "0ecd6ee1",
   "metadata": {},
   "source": [
    "K-Nearest Neighbours (KNN) is a classification algorithm. It works by examining a desired data point, inspecting 'x' number of its closest data points (i.e. its 'k' nearest neighbours) to identify what class they belong to, and classifying the desired point as the majority result of the neighbours' classes.\n",
    "\n",
    "With the data analysis we have done so far, KNN is an appropriate model to use."
   ]
  },
  {
   "cell_type": "markdown",
   "id": "bc925b3d",
   "metadata": {},
   "source": [
    "## Data Preparation"
   ]
  },
  {
   "cell_type": "code",
   "execution_count": 10,
   "id": "b03e1162",
   "metadata": {},
   "outputs": [],
   "source": [
    "X = iris[['PetalLengthCm', 'PetalWidthCm']]\n",
    "y = iris['Species']"
   ]
  },
  {
   "cell_type": "markdown",
   "id": "5d6aeb1f",
   "metadata": {},
   "source": [
    "We select petal length and petal width as features in X, and the species values in y."
   ]
  },
  {
   "cell_type": "markdown",
   "id": "45967838",
   "metadata": {},
   "source": [
    "## Building the model"
   ]
  },
  {
   "cell_type": "markdown",
   "id": "6bed7281",
   "metadata": {},
   "source": [
    "We imported the KNeighborsClassifier class from scikit-learn. Let's create a KNeighborsClassifier object for our model."
   ]
  },
  {
   "cell_type": "code",
   "execution_count": 11,
   "id": "71d99b7a",
   "metadata": {},
   "outputs": [],
   "source": [
    "knn = KNeighborsClassifier()"
   ]
  },
  {
   "cell_type": "markdown",
   "id": "baf22ef3",
   "metadata": {},
   "source": [
    "KNeighborsClassifier has an important hyperparameter (defined beforehand to control the learning) known as n_neighbors. n_neighbors is the number of neighbours of a given data point that will be examined to classify the data point. Changing n_neighbors will change the number of neighbours of the datum to be considered, and therefore might change the outcome of the classification.\n",
    "Hence, we must find the best value for n_neighbors (hyperparameter tuning). We can use a dictionary and GridSearchCV for this."
   ]
  },
  {
   "cell_type": "code",
   "execution_count": 12,
   "id": "923e2d5e",
   "metadata": {},
   "outputs": [],
   "source": [
    "# create a dict of all the values to be tested for n_neighbors\n",
    "param_grid = {'n_neighbors': np.arange(2, 10)}\n",
    "# use gridsearch to test all values for n_neighbors\n",
    "knn_gscv = GridSearchCV(knn, param_grid, cv = 5)"
   ]
  },
  {
   "cell_type": "markdown",
   "id": "2d83d98c",
   "metadata": {},
   "source": [
    "GridSearchCV automoatically performs train-test splitting for us since it uses 5-fold cross validation."
   ]
  },
  {
   "cell_type": "markdown",
   "id": "1424533f",
   "metadata": {},
   "source": [
    "## Fitting the model and finding the best parameters"
   ]
  },
  {
   "cell_type": "markdown",
   "id": "693bf254",
   "metadata": {},
   "source": [
    "Now that we have defined the model, we can fit it to our data."
   ]
  },
  {
   "cell_type": "code",
   "execution_count": 13,
   "id": "a2e18a6f",
   "metadata": {},
   "outputs": [
    {
     "data": {
      "text/plain": [
       "GridSearchCV(cv=5, estimator=KNeighborsClassifier(),\n",
       "             param_grid={'n_neighbors': array([2, 3, 4, 5, 6, 7, 8, 9])})"
      ]
     },
     "execution_count": 13,
     "metadata": {},
     "output_type": "execute_result"
    }
   ],
   "source": [
    "# fit model to data\n",
    "knn_gscv.fit(X, y)"
   ]
  },
  {
   "cell_type": "markdown",
   "id": "c0811985",
   "metadata": {},
   "source": [
    "GridSearchCV has fitted 8 models with n_neighbors as values from 2 to 9 (incl.). We can use its properties to find out which value of n_neighbors yielded the best accuracy:"
   ]
  },
  {
   "cell_type": "code",
   "execution_count": 14,
   "id": "e179b7df",
   "metadata": {},
   "outputs": [
    {
     "name": "stdout",
     "output_type": "stream",
     "text": [
      "{'n_neighbors': 4}\n"
     ]
    }
   ],
   "source": [
    "# check best parameter\n",
    "print(knn_gscv.best_params_)"
   ]
  },
  {
   "cell_type": "markdown",
   "id": "2465f13b",
   "metadata": {},
   "source": [
    "Hence, the best value for n_neighbors is 4. We can also check the accuracy score of this value:"
   ]
  },
  {
   "cell_type": "code",
   "execution_count": 15,
   "id": "4c663607",
   "metadata": {},
   "outputs": [
    {
     "name": "stdout",
     "output_type": "stream",
     "text": [
      "Accuracy:  0.9666666666666668\n"
     ]
    }
   ],
   "source": [
    "# check best score\n",
    "print(\"Accuracy: \", knn_gscv.best_score_)"
   ]
  },
  {
   "cell_type": "markdown",
   "id": "8b86e336",
   "metadata": {},
   "source": [
    "So, examining the 4 nearest neighbors of a datum to classify the data means that our model gets it right 97% of the time. Recall our exploratory data analysis: it was harder to separate _versicolor_ from _virginica_, so it's likely that the 3% error originates from there. We can verify this using a confusion matrix:"
   ]
  },
  {
   "cell_type": "code",
   "execution_count": 20,
   "id": "37b49ea4",
   "metadata": {},
   "outputs": [
    {
     "name": "stdout",
     "output_type": "stream",
     "text": [
      "[[50  0  0]\n",
      " [ 0 49  1]\n",
      " [ 0  3 47]]\n"
     ]
    },
    {
     "data": {
      "image/png": "[encoded data removed]",
      "text/plain": [
       "<Figure size 432x288 with 2 Axes>"
      ]
     },
     "metadata": {
      "needs_background": "light"
     },
     "output_type": "display_data"
    }
   ],
   "source": [
    "y_pred = knn_gscv.best_estimator_.predict(X)\n",
    "print(confusion_matrix(y, y_pred))\n",
    "plot_confusion_matrix(knn_gscv.best_estimator_, X, y, cmap = plt.cm.Blues)\n",
    "plt.show()"
   ]
  },
  {
   "cell_type": "markdown",
   "id": "849ff92b",
   "metadata": {},
   "source": [
    "The rows depict actual species while columns depict predicted species. \n",
    "So, 50 instances of _setosa_ were classified as _setosa_ with no errors. \n",
    "49 instances of _versicolor_ were predicted as _versicolor_ and 1 was predicted as _virginica_. \n",
    "47 instances of _virginica_ were predicted as _virginica_ and 3 were predicted as _versicolor_. \n",
    "These errors in classification are explained by the blurred distinction between these two species in terms of petal length and width."
   ]
  },
  {
   "cell_type": "markdown",
   "id": "8d397744",
   "metadata": {},
   "source": [
    "## Final model"
   ]
  },
  {
   "cell_type": "markdown",
   "id": "8acc9d3a",
   "metadata": {},
   "source": [
    "Now we can build our final model."
   ]
  },
  {
   "cell_type": "code",
   "execution_count": null,
   "id": "bbe239c7",
   "metadata": {},
   "outputs": [],
   "source": [
    "knn_final = KNeighborsClassifier(n_neighbors = knn_gscv.best_params_['n_neighbors'])\n",
    "knn_final.fit(X, y)\n",
    "y_pred = knn_final.predict(X)\n",
    "print(confusion_matrix(y, y_pred))\n",
    "print(cross_val_score(knn_final, X, y).mean())"
   ]
  },
  {
   "cell_type": "markdown",
   "id": "3f8d46a8",
   "metadata": {},
   "source": [
    "Our final model has n_neighbors = 4 and a mean cross-validation score of approximately 97%."
   ]
  }
 ],
 "metadata": {
  "kernelspec": {
   "display_name": "Python 3 (ipykernel)",
   "language": "python",
   "name": "python3"
  },
  "language_info": {
   "codemirror_mode": {
    "name": "ipython",
    "version": 3
   },
   "file_extension": ".py",
   "mimetype": "text/x-python",
   "name": "python",
   "nbconvert_exporter": "python",
   "pygments_lexer": "ipython3",
   "version": "3.8.5"
  }
 },
 "nbformat": 4,
 "nbformat_minor": 5
}
